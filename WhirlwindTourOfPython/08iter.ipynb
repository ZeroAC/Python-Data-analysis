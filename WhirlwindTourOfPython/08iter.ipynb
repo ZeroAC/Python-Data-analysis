{
 "cells": [
  {
   "cell_type": "code",
   "execution_count": 1,
   "source": [
    "for i in range(10):\n",
    "    print(i,end=' ')"
   ],
   "outputs": [
    {
     "output_type": "stream",
     "name": "stdout",
     "text": [
      "0 1 2 3 4 5 6 7 8 9 "
     ]
    }
   ],
   "metadata": {}
  },
  {
   "cell_type": "code",
   "execution_count": 5,
   "source": [
    "# 查看一个结构是否有迭代器\n",
    "I = iter([2, 4, 6, 8, 10]) # 查看列表的迭代器\n",
    "print(I)\n",
    "print(next(I)) # 开始迭代\n",
    "print(next(I))  # 开始迭代\n",
    "print(next(I))  # 开始迭代\n"
   ],
   "outputs": [
    {
     "output_type": "stream",
     "name": "stdout",
     "text": [
      "<list_iterator object at 0x7fb5a816b670>\n",
      "2\n",
      "4\n",
      "6\n"
     ]
    }
   ],
   "metadata": {}
  },
  {
   "cell_type": "code",
   "execution_count": 9,
   "source": [
    "print(iter(range(10))) # range也类似于列表 会有迭代器\n",
    "# 循环建议使用类迭代器的 而不是展开为列表\n",
    "# 使用迭代器间接的好处是永远不会显式创建完整列表！我们可以通过进行范围计算来看到这一点，\n",
    "# 如果我们实际实例化它(for i in [1,2,3,...,10^12])，则会十分耗费内存\n",
    "N = 10 ** 12\n",
    "for i in range(N):\n",
    "    if i >= 10:\n",
    "        break\n",
    "    print(i, end=', ')\n"
   ],
   "outputs": [
    {
     "output_type": "stream",
     "name": "stdout",
     "text": [
      "<range_iterator object at 0x7fb592f555a0>\n",
      "0, 1, 2, 3, 4, 5, 6, 7, 8, 9, "
     ]
    }
   ],
   "metadata": {}
  },
  {
   "cell_type": "markdown",
   "source": [
    "# 常用迭代器\n"
   ],
   "metadata": {}
  },
  {
   "cell_type": "code",
   "execution_count": null,
   "source": [
    "# 1.枚举列表元素及其下标\n",
    "L = [2, 4, 6, 8, 10]\n",
    "# 传统    for i in range(len(L)): print(i, L[i])\n",
    "# 使用枚举迭代器\n",
    "for i, val in enumerate(L):\n",
    "    print(i, val)\n"
   ],
   "outputs": [],
   "metadata": {}
  },
  {
   "cell_type": "code",
   "execution_count": 11,
   "source": [
    "# 2.zip 压缩多个迭代器 可同时迭代多个列表\n",
    "L = [2, 4, 6, 8, 10]\n",
    "R = [3, 6, 9, 12, 15]\n",
    "for lval, rval in zip(L, R):\n",
    "    print(lval, rval)\n"
   ],
   "outputs": [
    {
     "output_type": "stream",
     "name": "stdout",
     "text": [
      "2 3\n",
      "4 6\n",
      "6 9\n",
      "8 12\n",
      "10 15\n"
     ]
    }
   ],
   "metadata": {}
  },
  {
   "cell_type": "code",
   "execution_count": 12,
   "source": [
    "# 3. map\n",
    "# The map iterator takes a function and applies it to the values in an iterator:\n",
    "# find the first 10 square numbers\n",
    "for val in map(lambda x: x**2, range(10)):\n",
    "    print(val, end=' ')\n"
   ],
   "outputs": [
    {
     "output_type": "stream",
     "name": "stdout",
     "text": [
      "0 1 4 9 16 25 36 49 64 81 "
     ]
    }
   ],
   "metadata": {}
  },
  {
   "cell_type": "code",
   "execution_count": 13,
   "source": [
    "# 4. filter\n",
    "\n",
    "# find values up to 10 for which x % 2 is zero\n",
    "def is_even(x): return x % 2 == 0\n",
    "\n",
    "# 留下所有偶数\n",
    "for val in filter(lambda x: x % 2 == 0, range(10)):\n",
    "    print(val, end=' ')\n"
   ],
   "outputs": [
    {
     "output_type": "stream",
     "name": "stdout",
     "text": [
      "0 2 4 6 8 "
     ]
    }
   ],
   "metadata": {}
  },
  {
   "cell_type": "code",
   "execution_count": 19,
   "source": [
    "# *语法也可以把迭代器展开为序列\n",
    "print(*range(10))\n",
    "print(*map(lambda x: x ** 2, range(10)))\n",
    "L1 = (1, 2, 3, 4)\n",
    "L2 = ('a', 'b', 'c', 'd')\n",
    "z = zip(L1, L2)\n",
    "print(*z)\n",
    "\n",
    "# zip反解\n",
    "z = zip(L1, L2)\n",
    "new_L1, new_L2 = zip(*z)\n",
    "print(new_L1, new_L2)"
   ],
   "outputs": [
    {
     "output_type": "stream",
     "name": "stdout",
     "text": [
      "0 1 2 3 4 5 6 7 8 9\n",
      "0 1 4 9 16 25 36 49 64 81\n",
      "(1, 'a') (2, 'b') (3, 'c') (4, 'd')\n",
      "(1, 2, 3, 4) ('a', 'b', 'c', 'd')\n"
     ]
    }
   ],
   "metadata": {}
  },
  {
   "cell_type": "code",
   "execution_count": 24,
   "source": [
    "# Specialized Iterators: itertools\n",
    "from itertools import permutations\n",
    "from itertools import combinations\n",
    "from itertools import product\n",
    "p = permutations(range(3)) # 迭代所有排列\n",
    "print(*p)\n",
    "c = combinations(range(4), 2) # [0,1,2,3] 中长度为2的所有不重复的组合\n",
    "print(*c)\n",
    "p = product('ab', range(3)) # 两个序列的所有组合\n",
    "print(*p)\n"
   ],
   "outputs": [
    {
     "output_type": "stream",
     "name": "stdout",
     "text": [
      "(0, 1, 2) (0, 2, 1) (1, 0, 2) (1, 2, 0) (2, 0, 1) (2, 1, 0)\n",
      "(0, 1) (0, 2) (0, 3) (1, 2) (1, 3) (2, 3)\n",
      "('a', 0) ('a', 1) ('a', 2) ('b', 0) ('b', 1) ('b', 2)\n"
     ]
    }
   ],
   "metadata": {}
  }
 ],
 "metadata": {
  "orig_nbformat": 4,
  "language_info": {
   "name": "python",
   "version": "3.8.5",
   "mimetype": "text/x-python",
   "codemirror_mode": {
    "name": "ipython",
    "version": 3
   },
   "pygments_lexer": "ipython3",
   "nbconvert_exporter": "python",
   "file_extension": ".py"
  },
  "kernelspec": {
   "name": "python3",
   "display_name": "Python 3.8.5 64-bit ('cv': conda)"
  },
  "interpreter": {
   "hash": "3a14354be428db890b240766593904592cb63a8036262423e22f244f201c3e6a"
  }
 },
 "nbformat": 4,
 "nbformat_minor": 2
}