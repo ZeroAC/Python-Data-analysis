{
 "cells": [
  {
   "cell_type": "code",
   "execution_count": 1,
   "source": [
    "x = 'hello'\n",
    "# 多行字符串\n",
    "multiline = \"\"\"\n",
    "one\n",
    "two\n",
    "three\n",
    "\"\"\"\n",
    "print(x,multiline)\n"
   ],
   "outputs": [
    {
     "output_type": "stream",
     "name": "stdout",
     "text": [
      "hello \n",
      "one\n",
      "two\n",
      "three\n",
      "\n"
     ]
    }
   ],
   "metadata": {}
  },
  {
   "cell_type": "code",
   "execution_count": 2,
   "source": [
    "fox = \"tHe qUICk bROWn fOx.\"\n",
    "print(fox.upper(), fox.lower(), fox.title(), fox.capitalize(), fox.swapcase(),sep=\"\\n\")\n"
   ],
   "outputs": [
    {
     "output_type": "stream",
     "name": "stdout",
     "text": [
      "THE QUICK BROWN FOX.\n",
      "the quick brown fox.\n",
      "The Quick Brown Fox.\n",
      "The quick brown fox.\n",
      "ThE QuicK BrowN FoX.\n"
     ]
    }
   ],
   "metadata": {}
  },
  {
   "cell_type": "code",
   "execution_count": 3,
   "source": [
    "# Formatting strings: Adding and removing spaces\n",
    "\n",
    "# Add\n",
    "line = '         this is the content         '\n",
    "print(line.strip(),line.lstrip(),line.rstrip(),sep='\\n')\n",
    "num = \"000000000000435\"\n",
    "num.strip('0')"
   ],
   "outputs": [
    {
     "output_type": "stream",
     "name": "stdout",
     "text": [
      "this is the content\n",
      "this is the content         \n",
      "         this is the content\n"
     ]
    },
    {
     "output_type": "execute_result",
     "data": {
      "text/plain": [
       "'435'"
      ]
     },
     "metadata": {},
     "execution_count": 3
    }
   ],
   "metadata": {}
  },
  {
   "cell_type": "code",
   "execution_count": 45,
   "source": [
    "# 模板字符串\n",
    "a = 'hello'\n",
    "b = 7.38\n",
    "print(f'this is {a} and {b}')"
   ],
   "outputs": [
    {
     "output_type": "stream",
     "name": "stdout",
     "text": [
      "this is hello and 7.38\n"
     ]
    }
   ],
   "metadata": {}
  },
  {
   "cell_type": "code",
   "execution_count": 4,
   "source": [
    "# Remove\n",
    "line = \"this is the content\"\n",
    "print(line.center(30),line.ljust(30),line.rjust(30),sep='\\n')\n",
    "\n",
    "# 右对齐 不足10个左侧补零\n",
    "'435'.rjust(10, '0')\n"
   ],
   "outputs": [
    {
     "output_type": "stream",
     "name": "stdout",
     "text": [
      "     this is the content      \n",
      "this is the content           \n",
      "           this is the content\n"
     ]
    },
    {
     "output_type": "execute_result",
     "data": {
      "text/plain": [
       "'0000000435'"
      ]
     },
     "metadata": {},
     "execution_count": 4
    }
   ],
   "metadata": {}
  },
  {
   "cell_type": "code",
   "execution_count": 5,
   "source": [
    "# Finding and replacing substrings\n",
    "line = 'the quick brown fox jumped over a lazy dog'\n",
    "# 查找字符串第一次出现的下标\n",
    "print(line.find('fox'),line.index('fox'))\n",
    "# 上述方法区别 当查找失败时 find返回-1 index会 raises a ValueError\n"
   ],
   "outputs": [
    {
     "output_type": "stream",
     "name": "stdout",
     "text": [
      "16 16\n"
     ]
    }
   ],
   "metadata": {}
  },
  {
   "cell_type": "code",
   "execution_count": 16,
   "source": [
    "# 从后往前查找第一次出现的位置\n",
    "print(line, line.rfind('a'),sep='\\n')\n",
    "# 查找是否以某个字符串结尾\n",
    "print(line.endswith('dog'))\n",
    "# 查找是否以某个字符串开头\n",
    "print(line.startswith('the'))\n",
    "# 替换某个字符串\n",
    "print(line.replace('brown', 'red'))\n",
    "# The replace() function returns a new string, and will replace all occurrences of the input:\n",
    "print(line.replace('o', '--'))\n",
    "# The partition() method returns a tuple with three elements: \n",
    "# the substring before the first instance of the split-point, \n",
    "# the split-point itself, and the substring after:\n",
    "print(line.partition('fox'))\n"
   ],
   "outputs": [
    {
     "output_type": "stream",
     "name": "stdout",
     "text": [
      "the quick brown fox jumped over a lazy dog\n",
      "35\n",
      "True\n",
      "True\n",
      "the quick red fox jumped over a lazy dog\n",
      "the quick br--wn f--x jumped --ver a lazy d--g\n",
      "('the quick brown ', 'fox', ' jumped over a lazy dog')\n"
     ]
    }
   ],
   "metadata": {}
  },
  {
   "cell_type": "code",
   "execution_count": 19,
   "source": [
    "# 默认按照任意空格数量拆分\n",
    "print(line, line.split(), sep='\\n')\n",
    "# 逆运算 将一堆字符串按照分隔符组合为新的字符串\n",
    "'--'.join(['1', '2', '3'])"
   ],
   "outputs": [
    {
     "output_type": "stream",
     "name": "stdout",
     "text": [
      "the quick brown fox jumped over a lazy dog\n",
      "['the', 'quick', 'brown', 'fox', 'jumped', 'over', 'a', 'lazy', 'dog']\n"
     ]
    },
    {
     "output_type": "execute_result",
     "data": {
      "text/plain": [
       "'1--2--3'"
      ]
     },
     "metadata": {},
     "execution_count": 19
    }
   ],
   "metadata": {}
  },
  {
   "cell_type": "code",
   "execution_count": 18,
   "source": [
    "# 按照换行符拆分\n",
    "haiku = \"\"\"matsushima-ya\n",
    "aah matsushima-ya\n",
    "matsushima-ya\"\"\"\n",
    "\n",
    "haiku.splitlines()\n",
    "# 复原\n",
    "print(\"\\n\".join(['matsushima-ya', 'aah matsushima-ya', 'matsushima-ya']))\n"
   ],
   "outputs": [
    {
     "output_type": "execute_result",
     "data": {
      "text/plain": [
       "['matsushima-ya', 'aah matsushima-ya', 'matsushima-ya']"
      ]
     },
     "metadata": {},
     "execution_count": 18
    }
   ],
   "metadata": {}
  },
  {
   "cell_type": "code",
   "execution_count": 23,
   "source": [
    "a = 10.2345\n",
    "print(type(a),type(str(a))) # 转为字符串"
   ],
   "outputs": [
    {
     "output_type": "stream",
     "name": "stdout",
     "text": [
      "<class 'float'> <class 'str'>\n"
     ]
    }
   ],
   "metadata": {}
  },
  {
   "cell_type": "code",
   "execution_count": 27,
   "source": [
    "# 字符串格式化\n",
    "pi = 3.1415926\n",
    "print(\"The value of pi is {}\".format(pi))\n",
    "print(\"\"\"First letter: {0}. Last letter: {1}.\"\"\".format('A', 'Z'))\n",
    "print(\"\"\"First letter: {first}. Last letter: {last}.\"\"\".format(last='Z', first='A'))\n",
    "\"pi = {0:.3f}\".format(pi)\n"
   ],
   "outputs": [
    {
     "output_type": "stream",
     "name": "stdout",
     "text": [
      "The value of pi is 3.1415926\n",
      "First letter: A. Last letter: Z.\n",
      "First letter: A. Last letter: Z.\n"
     ]
    },
    {
     "output_type": "execute_result",
     "data": {
      "text/plain": [
       "'pi = 3.142'"
      ]
     },
     "metadata": {},
     "execution_count": 27
    }
   ],
   "metadata": {}
  },
  {
   "cell_type": "code",
   "execution_count": 29,
   "source": [
    "# 使用正则\n",
    "import re\n",
    "regex = re.compile('\\s+') # 采用正则\n",
    "print(line,regex.split(line),sep='\\n')\n"
   ],
   "outputs": [
    {
     "output_type": "stream",
     "name": "stdout",
     "text": [
      "the quick brown fox jumped over a lazy dog\n",
      "['the', 'quick', 'brown', 'fox', 'jumped', 'over', 'a', 'lazy', 'dog']\n"
     ]
    }
   ],
   "metadata": {}
  },
  {
   "cell_type": "code",
   "execution_count": 30,
   "source": [
    "for s in [\"     \", \"abc  \", \"  abc\"]:\n",
    "    if regex.match(s):\n",
    "        print(repr(s), \"matches\") # repr返回一个对象的字符串形式\n",
    "    else:\n",
    "        print(repr(s), \"does not match\")\n"
   ],
   "outputs": [
    {
     "output_type": "stream",
     "name": "stdout",
     "text": [
      "'     ' matches\n",
      "'abc  ' does not match\n",
      "'  abc' matches\n"
     ]
    }
   ],
   "metadata": {}
  },
  {
   "cell_type": "code",
   "execution_count": 40,
   "source": [
    "# 正则 查找\n",
    "regex = re.compile('fox')\n",
    "match = regex.search(line)\n",
    "print(match)\n",
    "# 正则 替换 把line中的fox变为BEAR\n",
    "print(regex.sub('BEAR', line),sep='\\n')\n"
   ],
   "outputs": [
    {
     "output_type": "stream",
     "name": "stdout",
     "text": [
      "<re.Match object; span=(16, 19), match='fox'>\n",
      "the quick brown BEAR jumped over a lazy dog\n"
     ]
    }
   ],
   "metadata": {}
  },
  {
   "cell_type": "code",
   "execution_count": 43,
   "source": [
    "# 更多正则\n",
    "email = re.compile('\\w+@\\w+\\.[a-z]{3}')\n",
    "text = \"To email Guido, try guido@python.org or the older address guido@google.com.\"\n",
    "print(text)\n",
    "# 查找text中的所有邮箱\n",
    "print(email.findall(text))\n",
    "# 邮箱加密\n",
    "print(email.sub('--@--.--', text))\n"
   ],
   "outputs": [
    {
     "output_type": "stream",
     "name": "stdout",
     "text": [
      "To email Guido, try guido@python.org or the older address guido@google.com.\n",
      "['guido@python.org', 'guido@google.com']\n",
      "To email Guido, try --@--.-- or the older address --@--.--.\n"
     ]
    }
   ],
   "metadata": {}
  },
  {
   "cell_type": "markdown",
   "source": [
    "# 正则中的特殊字符: `. ^ $ * + ? { } [ ] \\ | ( )`"
   ],
   "metadata": {}
  },
  {
   "cell_type": "code",
   "execution_count": 47,
   "source": [
    "\n",
    "# r\"\" 的作用是去除转义字符.\n",
    "# 即如果是“\\n”那么表示一个反斜杠字符，一个字母n，而不是表示换行了。\n",
    "# 以r开头的字符，常用于正则表达式，对应着re模块。\n",
    "\n",
    "# The r preface in r'\\$' indicates a raw string; \n",
    "# in standard Python strings, the backslash is used \n",
    "# to indicate special characters. For example, a tab is indicated by \"\\t\":\n",
    "print('a\\tb\\tc', r'a\\tb\\tc',sep='\\n')\n",
    "regex = re.compile(r'\\$') \n",
    "regex.findall(\"the cost is $20\")\n"
   ],
   "outputs": [
    {
     "output_type": "stream",
     "name": "stdout",
     "text": [
      "a\tb\tc\n",
      "a\\tb\\tc\n"
     ]
    },
    {
     "output_type": "execute_result",
     "data": {
      "text/plain": [
       "['$']"
      ]
     },
     "metadata": {},
     "execution_count": 47
    }
   ],
   "metadata": {}
  },
  {
   "cell_type": "code",
   "execution_count": 48,
   "source": [
    "regex = re.compile('[A-Z][0-9]')\n",
    "regex.findall('1043879, G2, H6')"
   ],
   "outputs": [
    {
     "output_type": "execute_result",
     "data": {
      "text/plain": [
       "['G2', 'H6']"
      ]
     },
     "metadata": {},
     "execution_count": 48
    }
   ],
   "metadata": {}
  },
  {
   "cell_type": "code",
   "execution_count": 49,
   "source": [
    "regex = re.compile(r'\\w{3}')\n",
    "regex.findall('The quick brown fox')"
   ],
   "outputs": [
    {
     "output_type": "execute_result",
     "data": {
      "text/plain": [
       "['The', 'qui', 'bro', 'fox']"
      ]
     },
     "metadata": {},
     "execution_count": 49
    }
   ],
   "metadata": {}
  },
  {
   "cell_type": "code",
   "execution_count": 50,
   "source": [
    "regex = re.compile(r'\\w+')\n",
    "regex.findall('The quick brown fox')"
   ],
   "outputs": [
    {
     "output_type": "execute_result",
     "data": {
      "text/plain": [
       "['The', 'quick', 'brown', 'fox']"
      ]
     },
     "metadata": {},
     "execution_count": 50
    }
   ],
   "metadata": {}
  },
  {
   "cell_type": "code",
   "execution_count": 78,
   "source": [
    "# 邮箱检测加强版\n",
    "email2 = re.compile(r'\\w+(\\.\\w+)+@\\w+\\.[a-z]{3}')\n",
    "print(email2.findall('ss.barack.obama@whitehouse.gov')) #只会返回最后一个捕获组\n",
    "email3 = re.compile(r'\\w+((\\.\\w+)+)@\\w+\\.[a-z]{3}')\n",
    "print(email3.findall('ss.barack.obama@whitehouse.gov'))  # 返回所有上一个例子的所有捕获组\n",
    "# match()方法判断是否匹配，如果匹配成功，返回一个Match对象，否则返回None。\n",
    "print(re.match(r'\\w+(\\.\\w+)+@\\w+\\.[a-z]{3}', 'ss.barack.obama@whitehouse.gov'))\n",
    "t = re.match(r'\\w+(\\.\\w+)+@\\w+\\.[a-z]{3}', 'ss.barack.obama@whitehouse.gov')\n",
    "print(t.group(0), t.group(1))  # 输出匹配的内容\n"
   ],
   "outputs": [
    {
     "output_type": "stream",
     "name": "stdout",
     "text": [
      "['.obama']\n",
      "[('.barack.obama', '.obama')]\n",
      "<re.Match object; span=(0, 30), match='ss.barack.obama@whitehouse.gov'>\n",
      "ss.barack.obama@whitehouse.gov .obama\n"
     ]
    }
   ],
   "metadata": {}
  },
  {
   "cell_type": "code",
   "execution_count": 79,
   "source": [
    "# 提取特定部分\n",
    "email3 = re.compile(r'([\\w.]+)@(\\w+)\\.([a-z]{3})')\n",
    "text = \"To email Guido, try guido@python.org or the older address guido@google.com.\"\n",
    "email3.findall(text)"
   ],
   "outputs": [
    {
     "output_type": "execute_result",
     "data": {
      "text/plain": [
       "[('guido', 'python', 'org'), ('guido', 'google', 'com')]"
      ]
     },
     "metadata": {},
     "execution_count": 79
    }
   ],
   "metadata": {}
  },
  {
   "cell_type": "code",
   "execution_count": 80,
   "source": [
    "# 给想要提取的每个部分起名字\n",
    "email4 = re.compile(r'(?P<user>[\\w.]+)@(?P<domain>\\w+)\\.(?P<suffix>[a-z]{3})')\n",
    "match = email4.match('guido@python.org')\n",
    "match.groupdict()"
   ],
   "outputs": [
    {
     "output_type": "execute_result",
     "data": {
      "text/plain": [
       "{'user': 'guido', 'domain': 'python', 'suffix': 'org'}"
      ]
     },
     "metadata": {},
     "execution_count": 80
    }
   ],
   "metadata": {}
  }
 ],
 "metadata": {
  "orig_nbformat": 4,
  "language_info": {
   "name": "python",
   "version": "3.8.5",
   "mimetype": "text/x-python",
   "codemirror_mode": {
    "name": "ipython",
    "version": 3
   },
   "pygments_lexer": "ipython3",
   "nbconvert_exporter": "python",
   "file_extension": ".py"
  },
  "kernelspec": {
   "name": "python3",
   "display_name": "Python 3.8.5 64-bit ('cv': conda)"
  },
  "interpreter": {
   "hash": "3a14354be428db890b240766593904592cb63a8036262423e22f244f201c3e6a"
  }
 },
 "nbformat": 4,
 "nbformat_minor": 2
}