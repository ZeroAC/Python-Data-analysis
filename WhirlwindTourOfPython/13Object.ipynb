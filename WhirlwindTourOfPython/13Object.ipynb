{
 "cells": [
  {
   "cell_type": "code",
   "execution_count": 8,
   "source": [
    "# 多态让你无需知道对象所属的类（对象的类型）就能调用其方法，而封装让你无需知道对象的构造就能使用它\n",
    "class Person:\n",
    "    def set_name(self, name):\n",
    "        self.name = name\n",
    "    def get_name(self):\n",
    "        return self.name\n",
    "    def greet(self):\n",
    "        print(f\"\\nhello world I'm {self.name}\\n\")\n"
   ],
   "outputs": [],
   "metadata": {}
  },
  {
   "cell_type": "code",
   "execution_count": 9,
   "source": [
    "foo = Person()\n",
    "foo.set_name('hello')\n",
    "foo.greet()"
   ],
   "outputs": [
    {
     "output_type": "stream",
     "name": "stdout",
     "text": [
      "\n",
      "hello world I'm hello\n",
      "\n"
     ]
    }
   ],
   "metadata": {}
  },
  {
   "cell_type": "code",
   "execution_count": 32,
   "source": [
    "# 定义私有属性或方法 只需让其名称以两个下划线打头即可 静态属性\n",
    "class Secretive:\n",
    "    def __inaccessible(self): # 注：以一个下划线开头的是无法被外部访问的 即便是转化名\n",
    "        print(\"Bet you can't see me ...\") \n",
    "    def accessible(self): \n",
    "        print(\"The secret message is:\")  \n",
    "        self.__inaccessible()\n",
    "\n",
    "    @staticmethod \n",
    "    def th(): \n",
    "        print('This is a static method')\n",
    "s = Secretive()\n",
    "#s.__inaccessible() # 此方法为私有 无法访问\n",
    "#s._Secretive__inaccessible() # 这样就可以访问 \n",
    "s.accessible()\n",
    "Secretive.th()\n"
   ],
   "outputs": [
    {
     "output_type": "stream",
     "name": "stdout",
     "text": [
      "The secret message is:\n",
      "Bet you can't see me ...\n",
      "This is a static method\n"
     ]
    }
   ],
   "metadata": {}
  },
  {
   "cell_type": "code",
   "execution_count": 22,
   "source": [
    "# 继承\n",
    "class Filter:   \n",
    "    def init(self):     \n",
    "        self.blocked = [] \n",
    "    def filter(self, sequence): \n",
    "        return [x for x in sequence if x not in self.blocked] \n",
    "\n",
    "class SPAMFilter(Filter):  # SPAMFilter是Filter的子类\n",
    "    def init(self):  # 重写超类Filter的方法init  \n",
    "        self.blocked = ['SPAM']\n",
    "s = SPAMFilter()\n",
    "s.init()\n",
    "print(s.filter(['SPAM', 'SPAM', 'SPAM', 'SPAM', 'eggs', 'bacon', 'SPAM'])) # 过滤掉SPAM\n",
    "print(issubclass(SPAMFilter, Filter)) # 判断一个类是否为另一个的子类\n",
    "print(SPAMFilter.__bases__) # 查看一个类的基类\n",
    "print(s.__class__) # 查看对象所属于的类\n"
   ],
   "outputs": [
    {
     "output_type": "stream",
     "name": "stdout",
     "text": [
      "['eggs', 'bacon']\n",
      "True\n",
      "(<class '__main__.Filter'>,)\n",
      "<class '__main__.SPAMFilter'>\n"
     ]
    }
   ],
   "metadata": {}
  },
  {
   "cell_type": "code",
   "execution_count": 23,
   "source": [
    "# 多继承\n",
    "class Calculator:\n",
    "    def calculate(self, expression):  \n",
    "        self.value = eval(expression) \n",
    "class Talker: \n",
    "    def talk(self): \n",
    "        print('Hi, my value is', self.value) \n",
    "\n",
    "\n",
    "# 若基类有同名方法或属性 必须在class语句中小心排列这些超类，因为位于前面的类的方法将覆盖位于后面的类的方法  \n",
    "class TalkingCalculator(Calculator, Talker):\n",
    "    pass\n",
    "tc = TalkingCalculator()\n",
    "tc.calculate('1 + 2 * 3')\n",
    "tc.talk()\n"
   ],
   "outputs": [
    {
     "output_type": "stream",
     "name": "stdout",
     "text": [
      "Hi, my value is 7\n"
     ]
    }
   ],
   "metadata": {}
  },
  {
   "cell_type": "code",
   "execution_count": 30,
   "source": [
    "# 抽象类 即包含抽象方法的类\n",
    "from abc import ABC, abstractmethod \n",
    "class Talker(ABC):    \n",
    "    @ abstractmethod # 装饰器语法\n",
    "    def talk1(self): pass\n",
    "    def pp(self):\n",
    "        print('hello')\n",
    "\n",
    "    @ abstractmethod  # 装饰器语法\n",
    "    def talk2(self): pass\n",
    "\n",
    "# 抽象类无法实例化\n",
    "# Talker() #ERROR\n",
    "\n",
    "\n",
    "class Knigget(Talker): # 抽象类只能用来继承 并实现其所有的抽象方法\n",
    "    def talk1(self): print(\"Ni!\")\n",
    "    def talk2(self): print(\"Hao!\")\n",
    "    \n",
    "k = Knigget()\n",
    "isinstance(k, Talker) # 查看是否为对象是否为类的实例\n"
   ],
   "outputs": [
    {
     "output_type": "execute_result",
     "data": {
      "text/plain": [
       "True"
      ]
     },
     "metadata": {},
     "execution_count": 30
    }
   ],
   "metadata": {}
  },
  {
   "cell_type": "code",
   "execution_count": 31,
   "source": [
    "\"\"\"\n",
    "callable(object) 判断对象是否是可调用的（如是否是函数或方法）\n",
    "getattr(object,name[,default]) 获取属性的值，还可提供默认值\n",
    "hasattr(object, name) 确定对象是否有指定的属性\n",
    "isinstance(object, class) 确定对象是否是指定类的实例\n",
    "issubclass(A, B) 确定A是否是B的子类\n",
    "random.choice(sequence) 从一个非空序列中随机地选择一个元素\n",
    "setattr(object, name, value) 将对象的指定属性设置为指定的值type(object) 返回对象的类型\n",
    "\"\"\"\n"
   ],
   "outputs": [
    {
     "output_type": "execute_result",
     "data": {
      "text/plain": [
       "'\\ncallable(object) 判断对象是否是可调用的（如是否是函数或方法）\\ngetattr(object,name[,default]) 获取属性的值，还可提供默认值\\nhasattr(object, name) 确定对象是否有指定的属性\\nisinstance(object, class) 确定对象是否是指定类的实例\\nissubclass(A, B) 确定A是否是B的子类\\nrandom.choice(sequence) 从一个非空序列中随机地选择一个元素\\nsetattr(object, name, value) 将对象的指定属性设置为指定的值type(object) 返回对象的类型\\n'"
      ]
     },
     "metadata": {},
     "execution_count": 31
    }
   ],
   "metadata": {}
  }
 ],
 "metadata": {
  "orig_nbformat": 4,
  "language_info": {
   "name": "python",
   "version": "3.8.5",
   "mimetype": "text/x-python",
   "codemirror_mode": {
    "name": "ipython",
    "version": 3
   },
   "pygments_lexer": "ipython3",
   "nbconvert_exporter": "python",
   "file_extension": ".py"
  },
  "kernelspec": {
   "name": "python3",
   "display_name": "Python 3.8.5 64-bit ('cv': conda)"
  },
  "interpreter": {
   "hash": "3a14354be428db890b240766593904592cb63a8036262423e22f244f201c3e6a"
  }
 },
 "nbformat": 4,
 "nbformat_minor": 2
}