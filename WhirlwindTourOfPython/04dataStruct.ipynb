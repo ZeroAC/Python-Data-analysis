{
 "cells": [
  {
   "cell_type": "markdown",
   "source": [
    "## Built-In Data Structures\n",
    "| type | example| description|\n",
    "|------|---------|--------------|\n",
    "| list\t|[1, 2, 3]|\tOrdered collection|\n",
    "| tuple\t|(1, 2, 3)|\tImmutable ordered collection|\n",
    "| dict\t|{'a':1, 'b':2, 'c':3}|\tUnordered (key,value) mapping|\n",
    "| set\t|{1, 2, 3}|\tUnordered collection of unique values|\n"
   ],
   "metadata": {}
  },
  {
   "cell_type": "markdown",
   "source": [
    "## List"
   ],
   "metadata": {}
  },
  {
   "cell_type": "code",
   "execution_count": 1,
   "source": [
    "L = [2, 3, 5, 7]\n",
    "len(L)"
   ],
   "outputs": [
    {
     "output_type": "execute_result",
     "data": {
      "text/plain": [
       "4"
      ]
     },
     "metadata": {},
     "execution_count": 1
    }
   ],
   "metadata": {}
  },
  {
   "cell_type": "code",
   "execution_count": 2,
   "source": [
    "L.append(11)\n",
    "L"
   ],
   "outputs": [
    {
     "output_type": "execute_result",
     "data": {
      "text/plain": [
       "[2, 3, 5, 7, 11]"
      ]
     },
     "metadata": {},
     "execution_count": 2
    }
   ],
   "metadata": {}
  },
  {
   "cell_type": "code",
   "execution_count": 3,
   "source": [
    "L + [13, 17, 19]"
   ],
   "outputs": [
    {
     "output_type": "execute_result",
     "data": {
      "text/plain": [
       "[2, 3, 5, 7, 11, 13, 17, 19]"
      ]
     },
     "metadata": {},
     "execution_count": 3
    }
   ],
   "metadata": {}
  },
  {
   "cell_type": "code",
   "execution_count": 4,
   "source": [
    "L = [2, 5, 1, 6, 3, 4]\n",
    "L.sort()\n",
    "L"
   ],
   "outputs": [
    {
     "output_type": "execute_result",
     "data": {
      "text/plain": [
       "[1, 2, 3, 4, 5, 6]"
      ]
     },
     "metadata": {},
     "execution_count": 4
    }
   ],
   "metadata": {}
  },
  {
   "cell_type": "code",
   "execution_count": 5,
   "source": [
    "# 可包含任意类型\n",
    "L = [1, 'two', 3.14, [0, 3, 5]]\n",
    "L"
   ],
   "outputs": [
    {
     "output_type": "execute_result",
     "data": {
      "text/plain": [
       "[1, 'two', 3.14, [0, 3, 5]]"
      ]
     },
     "metadata": {},
     "execution_count": 5
    }
   ],
   "metadata": {}
  },
  {
   "cell_type": "code",
   "execution_count": 14,
   "source": [
    "# List indexing and slicing\n",
    "\n",
    "L = [2, 3, 5, 7, 11]\n",
    "print(L[0],L[1],L[-1],L[-2])\n",
    "print(L[1:3]) # 左闭右开\n",
    "print(L[1:]) # 从1开始的所有\n",
    "print(L[:3]) # 到3的前面\n",
    "print(L[-3:]) #倒数第三个元素开始及其以后\n",
    "print(L[::2])  # equivalent to L[0:len(L):2])\n",
    "print(L[::-1]) # 逆序"
   ],
   "outputs": [
    {
     "output_type": "stream",
     "name": "stdout",
     "text": [
      "2 3 11 7\n",
      "[3, 5]\n",
      "[3, 5, 7, 11]\n",
      "[2, 3, 5]\n",
      "[5, 7, 11]\n",
      "[2, 5, 11]\n",
      "[11, 7, 5, 3, 2]\n"
     ]
    },
    {
     "output_type": "execute_result",
     "data": {
      "text/plain": [
       "[3, 5, 7, 11]"
      ]
     },
     "metadata": {},
     "execution_count": 14
    }
   ],
   "metadata": {}
  },
  {
   "cell_type": "markdown",
   "source": [
    "## tuples"
   ],
   "metadata": {}
  },
  {
   "cell_type": "code",
   "execution_count": 16,
   "source": [
    "# 类似于list 但元素不可变 其余操作和list一致\n",
    "t = (1,2,3)\n",
    "t"
   ],
   "outputs": [
    {
     "output_type": "execute_result",
     "data": {
      "text/plain": [
       "(1, 2, 3)"
      ]
     },
     "metadata": {},
     "execution_count": 16
    }
   ],
   "metadata": {}
  },
  {
   "cell_type": "code",
   "execution_count": 25,
   "source": [
    "# Tuples are often used in a Python program\n",
    "# a particularly common case is in functions that have multiple return values.\n",
    "x = 0.125\n",
    "print(x.as_integer_ratio()) # 例如该函数返回一个元素 把浮点数转化为分数\n",
    "\n",
    "# 元组可以类似js一样解构赋值\n",
    "numerator, denominator = x.as_integer_ratio()\n",
    "print(numerator ,'/', denominator)"
   ],
   "outputs": [
    {
     "output_type": "stream",
     "name": "stdout",
     "text": [
      "(1, 8)\n",
      "1 / 8\n"
     ]
    }
   ],
   "metadata": {}
  },
  {
   "cell_type": "markdown",
   "source": [
    "## Dictionaries"
   ],
   "metadata": {}
  },
  {
   "cell_type": "code",
   "execution_count": 29,
   "source": [
    "# 类似于C++里的 unordered_map\n",
    "numbers = {'one': 1, 'two': 2, 'three': 3}\n",
    "print(numbers['two'])\n",
    "# Set a new key:value pair\n",
    "numbers['ninety'] = 90\n",
    "print(numbers)\n"
   ],
   "outputs": [
    {
     "output_type": "stream",
     "name": "stdout",
     "text": [
      "2\n",
      "{'one': 1, 'two': 2, 'three': 3, 'ninety': 90}\n"
     ]
    }
   ],
   "metadata": {}
  },
  {
   "cell_type": "markdown",
   "source": [
    "## Sets"
   ],
   "metadata": {}
  },
  {
   "cell_type": "code",
   "execution_count": 39,
   "source": [
    "a = {2, 3, 5, 7, 7} # 集合会自动去重\n",
    "b = {1, 3, 5, 7, 9}\n",
    "\n",
    "print(a,b)\n"
   ],
   "outputs": [
    {
     "output_type": "stream",
     "name": "stdout",
     "text": [
      "{2, 3, 5, 7} {1, 3, 5, 7, 9}\n"
     ]
    }
   ],
   "metadata": {}
  },
  {
   "cell_type": "code",
   "execution_count": 41,
   "source": [
    "# 集合的相关运算也可以很方便的操作\n",
    "# union: items appearing in either\n",
    "print(a | b, a.union(b))  # 并\n",
    "print(a & b, a.intersection(b))  # 交\n",
    "print(a-b, a.difference(b)) # 差\n",
    "print(a^b, a.symmetric_difference(b)) # 对称性差 取两边的不同"
   ],
   "outputs": [
    {
     "output_type": "stream",
     "name": "stdout",
     "text": [
      "{1, 2, 3, 5, 7, 9} {1, 2, 3, 5, 7, 9}\n",
      "{3, 5, 7} {3, 5, 7}\n",
      "{2} {2}\n",
      "{1, 2, 9} {1, 2, 9}\n"
     ]
    }
   ],
   "metadata": {}
  }
 ],
 "metadata": {
  "orig_nbformat": 4,
  "language_info": {
   "name": "python",
   "version": "3.8.5",
   "mimetype": "text/x-python",
   "codemirror_mode": {
    "name": "ipython",
    "version": 3
   },
   "pygments_lexer": "ipython3",
   "nbconvert_exporter": "python",
   "file_extension": ".py"
  },
  "kernelspec": {
   "name": "python3",
   "display_name": "Python 3.8.5 64-bit ('cv': conda)"
  },
  "interpreter": {
   "hash": "3a14354be428db890b240766593904592cb63a8036262423e22f244f201c3e6a"
  }
 },
 "nbformat": 4,
 "nbformat_minor": 2
}