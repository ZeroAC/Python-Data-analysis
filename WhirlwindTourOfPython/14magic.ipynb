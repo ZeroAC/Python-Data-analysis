{
 "cells": [
  {
   "cell_type": "markdown",
   "source": [
    "# 开头和结尾都是两个下划线为魔术方法\n",
    "> 这样的拼写表示名称有特殊意义，因此绝不要在程序中创建这样的名称。在这样的名称中，很大一部分都是魔法（特殊）方法的名称。如果你的对象实现了这些方法，它们将在特定情况下（具体是哪种情况取决于方法的名称）被Python调用，而几乎不需要直接调用。"
   ],
   "metadata": {}
  },
  {
   "cell_type": "code",
   "execution_count": 4,
   "source": [
    "# 默认构造函数\n",
    "class FooBar:\n",
    "    def __init__(self):# __int__为构造函数 __del__为析构  \n",
    "        self.somevar = 42\n",
    "f = FooBar() # 自动调用__init__构造函数\n",
    "f.somevar"
   ],
   "outputs": [
    {
     "output_type": "execute_result",
     "data": {
      "text/plain": [
       "42"
      ]
     },
     "metadata": {},
     "execution_count": 4
    }
   ],
   "metadata": {}
  },
  {
   "cell_type": "code",
   "execution_count": 10,
   "source": [
    "# 在继承中使用构造函数 注意要调用基类的构造函数\n",
    "class Bird:\n",
    "    def __init__(self):\n",
    "        self.hungry  = True\n",
    "    def eat(self):\n",
    "        if self.hungry:\n",
    "            print('Aaaah ...')   \n",
    "            self.hungry = False \n",
    "        else: \n",
    "            print('No, thanks!')\n",
    "\n",
    "\n",
    "class SongBird(Bird):\n",
    "    def __init__(self):   \n",
    "        # 旧版 Bird.__init__(self)  # 主要需要初始化基类  \n",
    "        super().__init__() # 好处 多个基类也只需一行 无需理会复杂的派生关系\n",
    "        self.sound = 'Squawk!' \n",
    "    def sing(self): \n",
    "        print(self.sound)\n",
    "sb = SongBird()\n",
    "sb.sing()\n",
    "sb.eat()"
   ],
   "outputs": [
    {
     "output_type": "stream",
     "name": "stdout",
     "text": [
      "Squawk!\n",
      "Aaaah ...\n"
     ]
    }
   ],
   "metadata": {}
  },
  {
   "cell_type": "markdown",
   "source": [
    "# 迭代器\n",
    "# 实现了方法`__iter__`的对象是可迭代的，而实现了方法`__next__`的对象是迭代器"
   ],
   "metadata": {}
  },
  {
   "cell_type": "code",
   "execution_count": 14,
   "source": [
    "class Fibs:\n",
    "    def __init__(self):  \n",
    "        self.a = 0     \n",
    "        self.b = 1 \n",
    "    def __next__(self):\n",
    "        if self.b > 30: # 超过30停止迭代器\n",
    "            raise StopIteration\n",
    "        self.a, self.b = self.b, self.a + self.b \n",
    "        return self.a \n",
    "    def __iter__(self): \n",
    "        return self\n",
    "\n",
    "\n",
    "fibs = Fibs() # 创建了迭代器\n",
    "for i in fibs:\n",
    "    print(i)\n"
   ],
   "outputs": [
    {
     "output_type": "stream",
     "name": "stdout",
     "text": [
      "1\n",
      "1\n",
      "2\n",
      "3\n",
      "5\n",
      "8\n",
      "13\n",
      "21\n"
     ]
    }
   ],
   "metadata": {}
  },
  {
   "cell_type": "markdown",
   "source": [
    "# 生成器是一种使用普通函数语法定义的迭代器 是很新的概念"
   ],
   "metadata": {}
  },
  {
   "cell_type": "code",
   "execution_count": 21,
   "source": [
    "# 创建一个遍历以下列表的函数迭代器\n",
    "nested = [[1, 2], [3, 4], [5]]\n",
    "def flatten(nested): \n",
    "    for sublist in nested: \n",
    "        for element in sublist: \n",
    "            yield element\n",
    "print(*flatten(nested))\n",
    "for i in flatten(nested):\n",
    "    print(i,end=' ')\n",
    "\n",
    "# 生成器推导 \n",
    "# 其工作原理与列表推导相同，但不是创建一个列表（即不立即执行循环），而是返回一个生成器，让你能够逐步执行计算\n",
    "g = ((i + 2) ** 2 for i in range(2, 27))\n",
    "print('\\n',*g)\n",
    "#直接在一对既有的圆括号内（如在函数调用中）使用生成器推导时，无需再添加一对圆括号\n",
    "sum(i ** 2 for i in range(10))\n"
   ],
   "outputs": [
    {
     "output_type": "stream",
     "name": "stdout",
     "text": [
      "1 2 3 4 5\n",
      "1 2 3 4 5 \n",
      " 16 25 36 49 64 81 100 121 144 169 196 225 256 289 324 361 400 441 484 529 576 625 676 729 784\n"
     ]
    },
    {
     "output_type": "execute_result",
     "data": {
      "text/plain": [
       "285"
      ]
     },
     "metadata": {},
     "execution_count": 21
    }
   ],
   "metadata": {}
  },
  {
   "cell_type": "code",
   "execution_count": 22,
   "source": [
    "# 如果给定无穷嵌套呢 可以使用递归式生成器\n",
    "def flatten(nested): \n",
    "    try:\n",
    "        # 不迭代类似于字符串的对象： \n",
    "        try: nested + ''  \n",
    "        except TypeError: \n",
    "            pass  \n",
    "        else: raise TypeError\n",
    "        for sublist in nested: \n",
    "            for element in flatten(sublist): \n",
    "                yield element \n",
    "    # 当nested为一个数 for循环将引发TypeError异常（因为你试图迭代一个数），而这个生成器只生成一个元素\n",
    "    except TypeError:  \n",
    "        yield nested\n",
    "\n",
    "\n",
    "list(flatten([[[1], 2], 3, 4, [5, [6, 7]], 8]))\n"
   ],
   "outputs": [
    {
     "output_type": "execute_result",
     "data": {
      "text/plain": [
       "[1, 2, 3, 4, 5, 6, 7, 8]"
      ]
     },
     "metadata": {},
     "execution_count": 22
    }
   ],
   "metadata": {}
  },
  {
   "cell_type": "markdown",
   "source": [
    "# 实战应用:8皇后"
   ],
   "metadata": {}
  },
  {
   "cell_type": "code",
   "execution_count": 23,
   "source": [
    "# state[i]表示第i个皇后处于的位置\n",
    "\n",
    "# 检测下一个皇后的位置为nextX时 是否和之前的冲突\n",
    "def conflict(state,nextX):\n",
    "    nextY = len(state) # 当前皇后的数量\n",
    "    for i in range(nextY):\n",
    "        if abs(state[i]-nextX) in (0,nextY-i):#要保证不在同一列或对角线上\n",
    "            return True\n",
    "    return False"
   ],
   "outputs": [],
   "metadata": {}
  },
  {
   "cell_type": "code",
   "execution_count": 31,
   "source": [
    "def queens(num=8, state=()): \n",
    "    for pos in range(num): \n",
    "        if not conflict(state, pos): \n",
    "            if len(state) == num-1: \n",
    "                yield (pos,)  # 记得(pos,)中的逗号必不可少（不能仅用圆括号将pos括起），这样得到的才是元组\n",
    "            else: \n",
    "                for result in queens(num, state + (pos,)): \n",
    "                    yield (pos,) + result\n",
    "\n",
    "\n",
    "def prettyprint(solution): \n",
    "    def line(pos, length=len(solution)): \n",
    "        return '. ' * (pos) + 'X ' + '. ' * (length-pos-1) \n",
    "    for pos in solution: \n",
    "        print(line(pos))\n",
    "\n",
    "import random\n",
    "prettyprint(random.choice(list(queens(8)))) # 随机选取一个解 打印出来\n"
   ],
   "outputs": [
    {
     "output_type": "stream",
     "name": "stdout",
     "text": [
      ". . . X . . . . \n",
      ". . . . . . X . \n",
      ". . . . X . . . \n",
      ". X . . . . . . \n",
      ". . . . . X . . \n",
      "X . . . . . . . \n",
      ". . X . . . . . \n",
      ". . . . . . . X \n"
     ]
    }
   ],
   "metadata": {}
  }
 ],
 "metadata": {
  "orig_nbformat": 4,
  "language_info": {
   "name": "python",
   "version": "3.8.5",
   "mimetype": "text/x-python",
   "codemirror_mode": {
    "name": "ipython",
    "version": 3
   },
   "pygments_lexer": "ipython3",
   "nbconvert_exporter": "python",
   "file_extension": ".py"
  },
  "kernelspec": {
   "name": "python3",
   "display_name": "Python 3.8.5 64-bit ('cv': conda)"
  },
  "interpreter": {
   "hash": "3a14354be428db890b240766593904592cb63a8036262423e22f244f201c3e6a"
  }
 },
 "nbformat": 4,
 "nbformat_minor": 2
}