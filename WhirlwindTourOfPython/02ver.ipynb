{
 "cells": [
  {
   "cell_type": "markdown",
   "source": [
    "## python中的赋值 为地址的赋值 "
   ],
   "metadata": {}
  },
  {
   "cell_type": "code",
   "execution_count": 5,
   "source": [
    "x = [1, 2, 3]\n",
    "y = x\n",
    "x.append(4)\n",
    "\n",
    "# y的指向和x的指向相同 故而x改变时 y也会改变(也就是浅拷贝 y只是复制了x指向的地址)\n",
    "print(y)\n"
   ],
   "outputs": [
    {
     "output_type": "stream",
     "name": "stdout",
     "text": [
      "[1, 2, 3, 4]\n"
     ]
    }
   ],
   "metadata": {}
  },
  {
   "cell_type": "code",
   "execution_count": 6,
   "source": [
    "# 深拷贝 使得y独立出来了\n",
    "y = x.copy() \n",
    "x.append(5)\n",
    "print(y)"
   ],
   "outputs": [
    {
     "output_type": "stream",
     "name": "stdout",
     "text": [
      "[1, 2, 3, 4]\n"
     ]
    }
   ],
   "metadata": {}
  },
  {
   "cell_type": "code",
   "execution_count": 7,
   "source": [
    "# 恢复y\n",
    "y = x\n",
    "print(y)\n",
    "# 让x指向别处 则y不会改变(因为y还是指向x之前的位置 数据依然存在在那里)\n",
    "x = '1234'\n",
    "print(y)"
   ],
   "outputs": [
    {
     "output_type": "stream",
     "name": "stdout",
     "text": [
      "[1, 2, 3, 4, 5]\n",
      "[1, 2, 3, 4, 5]\n"
     ]
    }
   ],
   "metadata": {}
  },
  {
   "cell_type": "markdown",
   "source": [
    "## 数字、字符串和其他简单类型是不可变的：你不能改变它们的值——你只能改变变量指向的值。\n",
    "## 因此，例如，执行以下操作是完全安全的："
   ],
   "metadata": {}
  },
  {
   "cell_type": "code",
   "execution_count": 8,
   "source": [
    "x = 10\n",
    "y = x\n",
    "x += 5  # 该操作并不是改变x所指向的对象的值 而是创建了一个新的值为15的对象 然后让x指向该对象\n",
    "print(\"x =\", x)\n",
    "print(\"y =\", y) # 因此y的值不会改变\n"
   ],
   "outputs": [
    {
     "output_type": "stream",
     "name": "stdout",
     "text": [
      "x = 15\n",
      "y = 10\n"
     ]
    }
   ],
   "metadata": {}
  },
  {
   "cell_type": "markdown",
   "source": [
    "## Python is an object-oriented programming language, and in Python everything is an object."
   ],
   "metadata": {}
  },
  {
   "cell_type": "code",
   "execution_count": 10,
   "source": [
    "# Python has types; however, the types are linked not to the variable names \n",
    "# but to the objects themselves.\n",
    "x = 4\n",
    "print(type(x))\n",
    "x = 'hello'\n",
    "print(type(x))\n",
    "x = 3.14159\n",
    "print(type(x))"
   ],
   "outputs": [
    {
     "output_type": "stream",
     "name": "stdout",
     "text": [
      "<class 'int'>\n",
      "<class 'str'>\n",
      "<class 'float'>\n"
     ]
    }
   ],
   "metadata": {}
  }
 ],
 "metadata": {
  "orig_nbformat": 4,
  "language_info": {
   "name": "python",
   "version": "3.8.5",
   "mimetype": "text/x-python",
   "codemirror_mode": {
    "name": "ipython",
    "version": 3
   },
   "pygments_lexer": "ipython3",
   "nbconvert_exporter": "python",
   "file_extension": ".py"
  },
  "kernelspec": {
   "name": "python3",
   "display_name": "Python 3.8.5 64-bit ('cv': conda)"
  },
  "interpreter": {
   "hash": "3a14354be428db890b240766593904592cb63a8036262423e22f244f201c3e6a"
  }
 },
 "nbformat": 4,
 "nbformat_minor": 2
}