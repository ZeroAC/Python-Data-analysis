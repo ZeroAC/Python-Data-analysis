{
 "cells": [
  {
   "cell_type": "markdown",
   "source": [
    "# 魔术命令\n",
    "> IPython 在普通 Python 语法之上添加的一些增强功能。这些在 IPython 中被称为魔法命令，并以 % 字符为前缀\n",
    "\n",
    "注:使用时 两个%%号的要放在一个单元格里最上层"
   ],
   "metadata": {}
  },
  {
   "cell_type": "code",
   "execution_count": 18,
   "source": [
    "%run myscript.py # 运行外部文件 运行完后 可直接调用该文件内的函数"
   ],
   "outputs": [
    {
     "output_type": "stream",
     "name": "stdout",
     "text": [
      "1 squared is 1\n",
      "2 squared is 4\n",
      "3 squared is 9\n"
     ]
    }
   ],
   "metadata": {}
  },
  {
   "cell_type": "code",
   "execution_count": 19,
   "source": [
    "%timeit L = [n ** 2 for n in range(1000)] # 计算运行时间"
   ],
   "outputs": [
    {
     "output_type": "stream",
     "name": "stdout",
     "text": [
      "230 µs ± 10.1 µs per loop (mean ± std. dev. of 7 runs, 1000 loops each)\n"
     ]
    }
   ],
   "metadata": {}
  },
  {
   "cell_type": "code",
   "execution_count": 20,
   "source": [
    "%%timeit  # 两个百分 可处理多行\n",
    "L = []\n",
    "for n in range(1000):\n",
    "    L.append(n ** 2)"
   ],
   "outputs": [
    {
     "output_type": "stream",
     "name": "stdout",
     "text": [
      "247 µs ± 6.59 µs per loop (mean ± std. dev. of 7 runs, 1000 loops each)\n"
     ]
    }
   ],
   "metadata": {}
  }
 ],
 "metadata": {
  "orig_nbformat": 4,
  "language_info": {
   "name": "python",
   "version": "3.8.5",
   "mimetype": "text/x-python",
   "codemirror_mode": {
    "name": "ipython",
    "version": 3
   },
   "pygments_lexer": "ipython3",
   "nbconvert_exporter": "python",
   "file_extension": ".py"
  },
  "kernelspec": {
   "name": "python3",
   "display_name": "Python 3.8.5 64-bit ('cv': conda)"
  },
  "interpreter": {
   "hash": "3a14354be428db890b240766593904592cb63a8036262423e22f244f201c3e6a"
  }
 },
 "nbformat": 4,
 "nbformat_minor": 2
}