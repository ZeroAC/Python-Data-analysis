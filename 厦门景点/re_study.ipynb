{
 "cells": [
  {
   "cell_type": "markdown",
   "source": [
    "## [速成教程](https://www.liaoxuefeng.com/wiki/1016959663602400/1017639890281664)\n",
    "## [贪婪模式](https://dailc.github.io/2017/07/06/regularExpressionGreedyAndLazy.html)"
   ],
   "metadata": {}
  },
  {
   "cell_type": "code",
   "execution_count": 4,
   "source": [
    "s = r'abc\\-abc'\n",
    "s"
   ],
   "outputs": [
    {
     "output_type": "execute_result",
     "data": {
      "text/plain": [
       "'abc\\\\-abc'"
      ]
     },
     "metadata": {},
     "execution_count": 4
    }
   ],
   "metadata": {}
  },
  {
   "cell_type": "code",
   "execution_count": 15,
   "source": [
    "import re\n",
    "# 引入正则模块"
   ],
   "outputs": [],
   "metadata": {}
  },
  {
   "cell_type": "code",
   "execution_count": 16,
   "source": [
    "# match()方法判断是否匹配，如果匹配成功，返回一个Match对象，否则返回None。\n",
    "res1 = re.match(r'^\\d{3}\\-\\d{3,8}$', '010-123456')\n",
    "res2 = re.match(r'^\\d{3}\\-\\d{3,8}$', '010 12345')\n",
    "if res1:\n",
    "    print('res1 match ok')\n",
    "else: print('res1 is failed') \n",
    "if res2:\n",
    "    print('res2 match ok')\n",
    "else: print('res2 is failed')\n",
    "\n",
    "\n"
   ],
   "outputs": [
    {
     "output_type": "stream",
     "name": "stdout",
     "text": [
      "res1 match ok\n",
      "res2 is failed\n"
     ]
    }
   ],
   "metadata": {}
  },
  {
   "cell_type": "code",
   "execution_count": 35,
   "source": [
    "# 提取字符串\n",
    "res = 'a b   c'.split(' ') # 按照空格拆分 但无法识别连续的空格\n",
    "print(res)\n",
    "res = re.split(r'\\s+', 'a b   c') # 正则 可定制拆分规则\n",
    "print(res)\n",
    "res = re.split(r'[\\s,;]+', 'a     ;,    b;;;;, c  d')\n",
    "print(res)\n"
   ],
   "outputs": [
    {
     "output_type": "stream",
     "name": "stdout",
     "text": [
      "['a', 'b', '', '', 'c']\n",
      "['a', 'b', 'c']\n",
      "['a', 'b', 'c', 'd']\n"
     ]
    }
   ],
   "metadata": {}
  },
  {
   "cell_type": "code",
   "execution_count": 47,
   "source": [
    "# 分组 提取特定内容\n",
    "res = re.match(r'^(\\d{3})-(\\d{3,8})$', '010-12345')\n",
    "print(res.group(0),res.group(1),res.group(2)) # 输出匹配的内容\n",
    "\n",
    "# 返回findall中所有与pattern相匹配的全部字串，返回形式为数组\n",
    "res = re.findall(r'^(\\d{3})-(\\d{3,8})$', '010-12345')\n",
    "print(res)\n"
   ],
   "outputs": [
    {
     "output_type": "stream",
     "name": "stdout",
     "text": [
      "010-12345 010 12345\n",
      "[('010', '12345')]\n"
     ]
    }
   ],
   "metadata": {}
  }
 ],
 "metadata": {
  "orig_nbformat": 4,
  "language_info": {
   "name": "python",
   "version": "3.8.5",
   "mimetype": "text/x-python",
   "codemirror_mode": {
    "name": "ipython",
    "version": 3
   },
   "pygments_lexer": "ipython3",
   "nbconvert_exporter": "python",
   "file_extension": ".py"
  },
  "kernelspec": {
   "name": "python3",
   "display_name": "Python 3.8.5 64-bit ('cv': conda)"
  },
  "interpreter": {
   "hash": "3a14354be428db890b240766593904592cb63a8036262423e22f244f201c3e6a"
  }
 },
 "nbformat": 4,
 "nbformat_minor": 2
}